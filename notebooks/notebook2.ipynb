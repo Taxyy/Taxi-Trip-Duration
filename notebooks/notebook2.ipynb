{
 "cells": [
  {
   "cell_type": "code",
   "execution_count": 14,
   "metadata": {},
   "outputs": [],
   "source": [
    "import pandas as pd\n",
    "import numpy as np\n",
    "import matplotlib.pyplot as plt\n",
    "import matplotlib.gridspec as gridspec\n",
    "from keplergl import KeplerGl\n",
    "import requests as req"
   ]
  },
  {
   "cell_type": "code",
   "execution_count": 2,
   "metadata": {},
   "outputs": [],
   "source": [
    "# Load dataset\n",
    "dataset_raw = pd.read_csv(\"../dataset/train.csv\")"
   ]
  },
  {
   "cell_type": "code",
   "execution_count": 3,
   "metadata": {},
   "outputs": [
    {
     "data": {
      "text/plain": [
       "id                     object\n",
       "vendor_id               int64\n",
       "pickup_datetime        object\n",
       "dropoff_datetime       object\n",
       "passenger_count         int64\n",
       "pickup_longitude      float64\n",
       "pickup_latitude       float64\n",
       "dropoff_longitude     float64\n",
       "dropoff_latitude      float64\n",
       "store_and_fwd_flag     object\n",
       "trip_duration           int64\n",
       "dtype: object"
      ]
     },
     "execution_count": 3,
     "metadata": {},
     "output_type": "execute_result"
    }
   ],
   "source": [
    "dataset_raw.dtypes"
   ]
  },
  {
   "cell_type": "code",
   "execution_count": 4,
   "metadata": {},
   "outputs": [],
   "source": [
    "# Change data types of columns\n",
    "dataset_raw['pickup_datetime']= pd.to_datetime(dataset_raw['pickup_datetime']) \n",
    "dataset_raw['dropoff_datetime']= pd.to_datetime(dataset_raw['dropoff_datetime']) \n",
    "dataset_raw = dataset_raw.astype({'vendor_id': 'object'})"
   ]
  },
  {
   "cell_type": "code",
   "execution_count": 5,
   "metadata": {},
   "outputs": [
    {
     "data": {
      "text/plain": [
       "Index(['id', 'vendor_id', 'pickup_datetime', 'dropoff_datetime',\n",
       "       'passenger_count', 'pickup_longitude', 'pickup_latitude',\n",
       "       'dropoff_longitude', 'dropoff_latitude', 'store_and_fwd_flag',\n",
       "       'trip_duration'],\n",
       "      dtype='object')"
      ]
     },
     "execution_count": 5,
     "metadata": {},
     "output_type": "execute_result"
    }
   ],
   "source": [
    "dataset_raw.columns"
   ]
  },
  {
   "cell_type": "markdown",
   "metadata": {},
   "source": [
    "## Data Exploration - Mulitivariate"
   ]
  },
  {
   "cell_type": "code",
   "execution_count": 6,
   "metadata": {},
   "outputs": [
    {
     "data": {
      "text/html": [
       "<div>\n",
       "<style scoped>\n",
       "    .dataframe tbody tr th:only-of-type {\n",
       "        vertical-align: middle;\n",
       "    }\n",
       "\n",
       "    .dataframe tbody tr th {\n",
       "        vertical-align: top;\n",
       "    }\n",
       "\n",
       "    .dataframe thead th {\n",
       "        text-align: right;\n",
       "    }\n",
       "</style>\n",
       "<table border=\"1\" class=\"dataframe\">\n",
       "  <thead>\n",
       "    <tr style=\"text-align: right;\">\n",
       "      <th></th>\n",
       "      <th>passenger_count</th>\n",
       "      <th>pickup_longitude</th>\n",
       "      <th>pickup_latitude</th>\n",
       "      <th>dropoff_longitude</th>\n",
       "      <th>dropoff_latitude</th>\n",
       "      <th>trip_duration</th>\n",
       "    </tr>\n",
       "  </thead>\n",
       "  <tbody>\n",
       "    <tr>\n",
       "      <th>count</th>\n",
       "      <td>1.458644e+06</td>\n",
       "      <td>1.458644e+06</td>\n",
       "      <td>1.458644e+06</td>\n",
       "      <td>1.458644e+06</td>\n",
       "      <td>1.458644e+06</td>\n",
       "      <td>1.458644e+06</td>\n",
       "    </tr>\n",
       "    <tr>\n",
       "      <th>mean</th>\n",
       "      <td>1.664530e+00</td>\n",
       "      <td>-7.397349e+01</td>\n",
       "      <td>4.075092e+01</td>\n",
       "      <td>-7.397342e+01</td>\n",
       "      <td>4.075180e+01</td>\n",
       "      <td>9.594923e+02</td>\n",
       "    </tr>\n",
       "    <tr>\n",
       "      <th>std</th>\n",
       "      <td>1.314242e+00</td>\n",
       "      <td>7.090186e-02</td>\n",
       "      <td>3.288119e-02</td>\n",
       "      <td>7.064327e-02</td>\n",
       "      <td>3.589056e-02</td>\n",
       "      <td>5.237432e+03</td>\n",
       "    </tr>\n",
       "    <tr>\n",
       "      <th>min</th>\n",
       "      <td>0.000000e+00</td>\n",
       "      <td>-1.219333e+02</td>\n",
       "      <td>3.435970e+01</td>\n",
       "      <td>-1.219333e+02</td>\n",
       "      <td>3.218114e+01</td>\n",
       "      <td>1.000000e+00</td>\n",
       "    </tr>\n",
       "    <tr>\n",
       "      <th>25%</th>\n",
       "      <td>1.000000e+00</td>\n",
       "      <td>-7.399187e+01</td>\n",
       "      <td>4.073735e+01</td>\n",
       "      <td>-7.399133e+01</td>\n",
       "      <td>4.073588e+01</td>\n",
       "      <td>3.970000e+02</td>\n",
       "    </tr>\n",
       "    <tr>\n",
       "      <th>50%</th>\n",
       "      <td>1.000000e+00</td>\n",
       "      <td>-7.398174e+01</td>\n",
       "      <td>4.075410e+01</td>\n",
       "      <td>-7.397975e+01</td>\n",
       "      <td>4.075452e+01</td>\n",
       "      <td>6.620000e+02</td>\n",
       "    </tr>\n",
       "    <tr>\n",
       "      <th>75%</th>\n",
       "      <td>2.000000e+00</td>\n",
       "      <td>-7.396733e+01</td>\n",
       "      <td>4.076836e+01</td>\n",
       "      <td>-7.396301e+01</td>\n",
       "      <td>4.076981e+01</td>\n",
       "      <td>1.075000e+03</td>\n",
       "    </tr>\n",
       "    <tr>\n",
       "      <th>max</th>\n",
       "      <td>9.000000e+00</td>\n",
       "      <td>-6.133553e+01</td>\n",
       "      <td>5.188108e+01</td>\n",
       "      <td>-6.133553e+01</td>\n",
       "      <td>4.392103e+01</td>\n",
       "      <td>3.526282e+06</td>\n",
       "    </tr>\n",
       "  </tbody>\n",
       "</table>\n",
       "</div>"
      ],
      "text/plain": [
       "       passenger_count  pickup_longitude  pickup_latitude  dropoff_longitude  \\\n",
       "count     1.458644e+06      1.458644e+06     1.458644e+06       1.458644e+06   \n",
       "mean      1.664530e+00     -7.397349e+01     4.075092e+01      -7.397342e+01   \n",
       "std       1.314242e+00      7.090186e-02     3.288119e-02       7.064327e-02   \n",
       "min       0.000000e+00     -1.219333e+02     3.435970e+01      -1.219333e+02   \n",
       "25%       1.000000e+00     -7.399187e+01     4.073735e+01      -7.399133e+01   \n",
       "50%       1.000000e+00     -7.398174e+01     4.075410e+01      -7.397975e+01   \n",
       "75%       2.000000e+00     -7.396733e+01     4.076836e+01      -7.396301e+01   \n",
       "max       9.000000e+00     -6.133553e+01     5.188108e+01      -6.133553e+01   \n",
       "\n",
       "       dropoff_latitude  trip_duration  \n",
       "count      1.458644e+06   1.458644e+06  \n",
       "mean       4.075180e+01   9.594923e+02  \n",
       "std        3.589056e-02   5.237432e+03  \n",
       "min        3.218114e+01   1.000000e+00  \n",
       "25%        4.073588e+01   3.970000e+02  \n",
       "50%        4.075452e+01   6.620000e+02  \n",
       "75%        4.076981e+01   1.075000e+03  \n",
       "max        4.392103e+01   3.526282e+06  "
      ]
     },
     "execution_count": 6,
     "metadata": {},
     "output_type": "execute_result"
    }
   ],
   "source": [
    "# Describing all the Numerical Features\n",
    "dataset_raw.describe()"
   ]
  },
  {
   "cell_type": "code",
   "execution_count": 7,
   "metadata": {},
   "outputs": [
    {
     "data": {
      "text/html": [
       "<div>\n",
       "<style scoped>\n",
       "    .dataframe tbody tr th:only-of-type {\n",
       "        vertical-align: middle;\n",
       "    }\n",
       "\n",
       "    .dataframe tbody tr th {\n",
       "        vertical-align: top;\n",
       "    }\n",
       "\n",
       "    .dataframe thead th {\n",
       "        text-align: right;\n",
       "    }\n",
       "</style>\n",
       "<table border=\"1\" class=\"dataframe\">\n",
       "  <thead>\n",
       "    <tr style=\"text-align: right;\">\n",
       "      <th></th>\n",
       "      <th>id</th>\n",
       "      <th>vendor_id</th>\n",
       "      <th>store_and_fwd_flag</th>\n",
       "    </tr>\n",
       "  </thead>\n",
       "  <tbody>\n",
       "    <tr>\n",
       "      <th>count</th>\n",
       "      <td>1458644</td>\n",
       "      <td>1458644</td>\n",
       "      <td>1458644</td>\n",
       "    </tr>\n",
       "    <tr>\n",
       "      <th>unique</th>\n",
       "      <td>1458644</td>\n",
       "      <td>2</td>\n",
       "      <td>2</td>\n",
       "    </tr>\n",
       "    <tr>\n",
       "      <th>top</th>\n",
       "      <td>id2176315</td>\n",
       "      <td>2</td>\n",
       "      <td>N</td>\n",
       "    </tr>\n",
       "    <tr>\n",
       "      <th>freq</th>\n",
       "      <td>1</td>\n",
       "      <td>780302</td>\n",
       "      <td>1450599</td>\n",
       "    </tr>\n",
       "  </tbody>\n",
       "</table>\n",
       "</div>"
      ],
      "text/plain": [
       "               id  vendor_id store_and_fwd_flag\n",
       "count     1458644    1458644            1458644\n",
       "unique    1458644          2                  2\n",
       "top     id2176315          2                  N\n",
       "freq            1     780302            1450599"
      ]
     },
     "execution_count": 7,
     "metadata": {},
     "output_type": "execute_result"
    }
   ],
   "source": [
    "# Describing all the Categorical Features\n",
    "dataset_raw.describe(include=['O'])"
   ]
  },
  {
   "cell_type": "code",
   "execution_count": 8,
   "metadata": {},
   "outputs": [],
   "source": [
    "# OSRM distance\n",
    "def route_dis(loc1,loc2):\n",
    "    URL=\"http://localhost:5000/route/v1/driving/\"+loc1+\";\"+loc2+\"?overview=full&alternatives=false&steps=false&geometries=geojson\"\n",
    "    route = \"routes\"\n",
    "    distance = \"distance\"\n",
    "    duration = \"duration\"\n",
    "    geo = \"geometry\"\n",
    "    cordinates = \"coordinates\"\n",
    "    r = req.get(url=URL)\n",
    "    data = r.json()\n",
    "    if(route in data.keys()):\n",
    "        return data[route][0][distance]\n",
    "    else:\n",
    "        -1\n",
    "\n",
    "dataset_raw[\"osrm_distance\"] = dataset_raw.apply(lambda x: route_dis(str(x.pickup_longitude)+\",\"+str(x.pickup_latitude),str(x.dropoff_longitude)+\",\"+str(x.dropoff_latitude)),axis=1)"
   ]
  },
  {
   "cell_type": "code",
   "execution_count": null,
   "metadata": {},
   "outputs": [],
   "source": [
    "# Hex bin tagging\n",
    "from h3 import h3\n",
    "\n",
    "def get_h3ID(pick_lat, pick_lon, drop_lat, drop_lon, res_pick, res_drop):\n",
    "    pick_ID = h3.geo_to_h3(pick_lat, pick_lon, res_pick)\n",
    "    drop_ID = h3.geo_to_h3(drop_lat, drop_lon, res_drop)\n",
    "    return pick_ID,drop_ID\n",
    "\n",
    "def add_pick_drop_loc_ID(data_frame, res_pick, res_drop):\n",
    "\n",
    "    df2=data_frame\n",
    "    try:\n",
    "        df2['Pick_ID'],df2['Drop_ID'] = zip(*df2.apply(\n",
    "            lambda row: get_h3ID(\n",
    "                pick_lat = row['pickup_latitude'],\n",
    "                pick_lon = row['pickup_longitude'],\n",
    "                drop_lat = row['dropoff_latitude'],\n",
    "                drop_lon = row['dropoff_longitude'],\n",
    "                res_pick = res_pick,\n",
    "                res_drop = res_drop\n",
    "            ),\n",
    "            axis=1\n",
    "        ))\n",
    "    except Exception as e:\n",
    "        print(e)\n",
    "        pass\n",
    "add_pick_drop_loc_ID(dataset_raw, res_pick=8, res_drop=8)"
   ]
  },
  {
   "cell_type": "code",
   "execution_count": null,
   "metadata": {},
   "outputs": [],
   "source": [
    "dataset_raw.to_csv(\"../dataset/dataset_with_hex_and_dis.csv\",index=False)"
   ]
  },
  {
   "cell_type": "markdown",
   "metadata": {},
   "source": [
    "### trip duration"
   ]
  },
  {
   "cell_type": "code",
   "execution_count": 9,
   "metadata": {},
   "outputs": [],
   "source": [
    "dataset_raw[\"year\"] = dataset_raw.pickup_datetime.dt.year\n",
    "dataset_raw[\"month\"] = dataset_raw.pickup_datetime.dt.month\n",
    "dataset_raw[\"day\"] = dataset_raw.pickup_datetime.dt.day\n",
    "dataset_raw[\"hour\"] = dataset_raw.pickup_datetime.dt.hour\n",
    "dataset_raw[\"minute\"] = dataset_raw.pickup_datetime.dt.minute\n",
    "dataset_raw[\"weekday\"] = dataset_raw.pickup_datetime.dt.weekday\n",
    "dataset_raw[\"trip_duration_minutes\"] = dataset_raw[\"trip_duration\"]/60"
   ]
  },
  {
   "cell_type": "code",
   "execution_count": 36,
   "metadata": {},
   "outputs": [
    {
     "data": {
      "text/html": [
       "<div>\n",
       "<style scoped>\n",
       "    .dataframe tbody tr th:only-of-type {\n",
       "        vertical-align: middle;\n",
       "    }\n",
       "\n",
       "    .dataframe tbody tr th {\n",
       "        vertical-align: top;\n",
       "    }\n",
       "\n",
       "    .dataframe thead th {\n",
       "        text-align: right;\n",
       "    }\n",
       "</style>\n",
       "<table border=\"1\" class=\"dataframe\">\n",
       "  <thead>\n",
       "    <tr style=\"text-align: right;\">\n",
       "      <th></th>\n",
       "      <th>id</th>\n",
       "      <th>vendor_id</th>\n",
       "      <th>pickup_datetime</th>\n",
       "      <th>dropoff_datetime</th>\n",
       "      <th>passenger_count</th>\n",
       "      <th>pickup_longitude</th>\n",
       "      <th>pickup_latitude</th>\n",
       "      <th>dropoff_longitude</th>\n",
       "      <th>dropoff_latitude</th>\n",
       "      <th>store_and_fwd_flag</th>\n",
       "      <th>trip_duration</th>\n",
       "      <th>year</th>\n",
       "      <th>month</th>\n",
       "      <th>day</th>\n",
       "      <th>hour</th>\n",
       "      <th>minute</th>\n",
       "      <th>weekday</th>\n",
       "      <th>trip_duration_minutes</th>\n",
       "      <th>trip_duration_cats</th>\n",
       "    </tr>\n",
       "  </thead>\n",
       "  <tbody>\n",
       "    <tr>\n",
       "      <th>0</th>\n",
       "      <td>id2875421</td>\n",
       "      <td>2</td>\n",
       "      <td>2016-03-14 17:24:55</td>\n",
       "      <td>2016-03-14 17:32:30</td>\n",
       "      <td>1</td>\n",
       "      <td>-73.982155</td>\n",
       "      <td>40.767937</td>\n",
       "      <td>-73.964630</td>\n",
       "      <td>40.765602</td>\n",
       "      <td>N</td>\n",
       "      <td>455</td>\n",
       "      <td>2016</td>\n",
       "      <td>3</td>\n",
       "      <td>14</td>\n",
       "      <td>17</td>\n",
       "      <td>24</td>\n",
       "      <td>0</td>\n",
       "      <td>7.583333</td>\n",
       "      <td>10 min &lt; T &lt; 20 min</td>\n",
       "    </tr>\n",
       "    <tr>\n",
       "      <th>1</th>\n",
       "      <td>id2377394</td>\n",
       "      <td>1</td>\n",
       "      <td>2016-06-12 00:43:35</td>\n",
       "      <td>2016-06-12 00:54:38</td>\n",
       "      <td>1</td>\n",
       "      <td>-73.980415</td>\n",
       "      <td>40.738564</td>\n",
       "      <td>-73.999481</td>\n",
       "      <td>40.731152</td>\n",
       "      <td>N</td>\n",
       "      <td>663</td>\n",
       "      <td>2016</td>\n",
       "      <td>6</td>\n",
       "      <td>12</td>\n",
       "      <td>0</td>\n",
       "      <td>43</td>\n",
       "      <td>6</td>\n",
       "      <td>11.050000</td>\n",
       "      <td>10 min &lt; T &lt; 20 min</td>\n",
       "    </tr>\n",
       "    <tr>\n",
       "      <th>2</th>\n",
       "      <td>id3858529</td>\n",
       "      <td>2</td>\n",
       "      <td>2016-01-19 11:35:24</td>\n",
       "      <td>2016-01-19 12:10:48</td>\n",
       "      <td>1</td>\n",
       "      <td>-73.979027</td>\n",
       "      <td>40.763939</td>\n",
       "      <td>-74.005333</td>\n",
       "      <td>40.710087</td>\n",
       "      <td>N</td>\n",
       "      <td>2124</td>\n",
       "      <td>2016</td>\n",
       "      <td>1</td>\n",
       "      <td>19</td>\n",
       "      <td>11</td>\n",
       "      <td>35</td>\n",
       "      <td>1</td>\n",
       "      <td>35.400000</td>\n",
       "      <td>30 min &lt; T &lt; 60 min</td>\n",
       "    </tr>\n",
       "    <tr>\n",
       "      <th>3</th>\n",
       "      <td>id3504673</td>\n",
       "      <td>2</td>\n",
       "      <td>2016-04-06 19:32:31</td>\n",
       "      <td>2016-04-06 19:39:40</td>\n",
       "      <td>1</td>\n",
       "      <td>-74.010040</td>\n",
       "      <td>40.719971</td>\n",
       "      <td>-74.012268</td>\n",
       "      <td>40.706718</td>\n",
       "      <td>N</td>\n",
       "      <td>429</td>\n",
       "      <td>2016</td>\n",
       "      <td>4</td>\n",
       "      <td>6</td>\n",
       "      <td>19</td>\n",
       "      <td>32</td>\n",
       "      <td>2</td>\n",
       "      <td>7.150000</td>\n",
       "      <td>10 min &lt; T &lt; 20 min</td>\n",
       "    </tr>\n",
       "    <tr>\n",
       "      <th>4</th>\n",
       "      <td>id2181028</td>\n",
       "      <td>2</td>\n",
       "      <td>2016-03-26 13:30:55</td>\n",
       "      <td>2016-03-26 13:38:10</td>\n",
       "      <td>1</td>\n",
       "      <td>-73.973053</td>\n",
       "      <td>40.793209</td>\n",
       "      <td>-73.972923</td>\n",
       "      <td>40.782520</td>\n",
       "      <td>N</td>\n",
       "      <td>435</td>\n",
       "      <td>2016</td>\n",
       "      <td>3</td>\n",
       "      <td>26</td>\n",
       "      <td>13</td>\n",
       "      <td>30</td>\n",
       "      <td>5</td>\n",
       "      <td>7.250000</td>\n",
       "      <td>10 min &lt; T &lt; 20 min</td>\n",
       "    </tr>\n",
       "  </tbody>\n",
       "</table>\n",
       "</div>"
      ],
      "text/plain": [
       "          id vendor_id     pickup_datetime    dropoff_datetime  \\\n",
       "0  id2875421         2 2016-03-14 17:24:55 2016-03-14 17:32:30   \n",
       "1  id2377394         1 2016-06-12 00:43:35 2016-06-12 00:54:38   \n",
       "2  id3858529         2 2016-01-19 11:35:24 2016-01-19 12:10:48   \n",
       "3  id3504673         2 2016-04-06 19:32:31 2016-04-06 19:39:40   \n",
       "4  id2181028         2 2016-03-26 13:30:55 2016-03-26 13:38:10   \n",
       "\n",
       "   passenger_count  pickup_longitude  pickup_latitude  dropoff_longitude  \\\n",
       "0                1        -73.982155        40.767937         -73.964630   \n",
       "1                1        -73.980415        40.738564         -73.999481   \n",
       "2                1        -73.979027        40.763939         -74.005333   \n",
       "3                1        -74.010040        40.719971         -74.012268   \n",
       "4                1        -73.973053        40.793209         -73.972923   \n",
       "\n",
       "   dropoff_latitude store_and_fwd_flag  trip_duration  year  month  day  hour  \\\n",
       "0         40.765602                  N            455  2016      3   14    17   \n",
       "1         40.731152                  N            663  2016      6   12     0   \n",
       "2         40.710087                  N           2124  2016      1   19    11   \n",
       "3         40.706718                  N            429  2016      4    6    19   \n",
       "4         40.782520                  N            435  2016      3   26    13   \n",
       "\n",
       "   minute  weekday  trip_duration_minutes   trip_duration_cats  \n",
       "0      24        0               7.583333  10 min < T < 20 min  \n",
       "1      43        6              11.050000  10 min < T < 20 min  \n",
       "2      35        1              35.400000  30 min < T < 60 min  \n",
       "3      32        2               7.150000  10 min < T < 20 min  \n",
       "4      30        5               7.250000  10 min < T < 20 min  "
      ]
     },
     "execution_count": 36,
     "metadata": {},
     "output_type": "execute_result"
    }
   ],
   "source": [
    "dataset_raw.head()"
   ]
  },
  {
   "cell_type": "code",
   "execution_count": 38,
   "metadata": {},
   "outputs": [],
   "source": [
    "# Categorize time duration\n",
    "def categorize(value):\n",
    "    if value <= 5:\n",
    "        return \"T < 5 min\"\n",
    "    elif 5 < value <= 10:\n",
    "        return \"5 min < T < 10 min\"\n",
    "    elif 10 < value <= 20:\n",
    "        return \"10 min < T < 20 min\"\n",
    "    elif 20 < value <= 30:\n",
    "        return \"20 min < T < 30 min\"\n",
    "    elif 30 < value <= 60:\n",
    "        return \"30 min < T < 60 min\"\n",
    "    elif 60 < value <= 120:\n",
    "        return \"60 min < T < 120 min\"\n",
    "    else:\n",
    "        return \"120 min > T\"\n",
    "    \n",
    "dataset_raw[\"trip_duration_cats\"] = dataset_raw[\"trip_duration_minutes\"].apply(lambda x: categorize(x))"
   ]
  },
  {
   "cell_type": "code",
   "execution_count": 39,
   "metadata": {},
   "outputs": [
    {
     "data": {
      "text/plain": [
       "<matplotlib.axes._subplots.AxesSubplot at 0x1eccabdbb00>"
      ]
     },
     "execution_count": 39,
     "metadata": {},
     "output_type": "execute_result"
    },
    {
     "data": {
      "image/png": "[encoded data removed]",
      "text/plain": [
       "<Figure size 432x288 with 1 Axes>"
      ]
     },
     "metadata": {
      "needs_background": "light"
     },
     "output_type": "display_data"
    }
   ],
   "source": [
    "dataset_raw[\"trip_duration_cats\"].value_counts().plot(kind='bar')"
   ]
  },
  {
   "cell_type": "code",
   "execution_count": 43,
   "metadata": {},
   "outputs": [
    {
     "data": {
      "image/png": "[encoded data removed]",
      "text/plain": [
       "<Figure size 1332x1188 with 6 Axes>"
      ]
     },
     "metadata": {
      "needs_background": "light"
     },
     "output_type": "display_data"
    }
   ],
   "source": [
    "# Month wise trip durations\n",
    "fig, ax = plt.subplots(3, 2)\n",
    "fig.set_size_inches(18.5, 16.5)\n",
    "fig.tight_layout(pad=15.0)\n",
    "months = ['Jan', 'Feb', 'March', 'April', 'May', 'June']\n",
    "for i in range(6):\n",
    "    a = dataset_raw[dataset_raw['month']==i+1][\"trip_duration_cats\"].value_counts().plot(kind='bar',ax=ax[int(i/2)][i%2])\n",
    "    a.set_xlabel(months[i])\n",
    "    a.set_ylabel(\"Trip count\")"
   ]
  },
  {
   "cell_type": "code",
   "execution_count": 44,
   "metadata": {
    "scrolled": false
   },
   "outputs": [
    {
     "data": {
      "image/png": "[encoded data removed]",
      "text/plain": [
       "<Figure size 1332x1188 with 8 Axes>"
      ]
     },
     "metadata": {
      "needs_background": "light"
     },
     "output_type": "display_data"
    }
   ],
   "source": [
    "# Day wise trip durations\n",
    "fig, ax = plt.subplots(4, 2)\n",
    "fig.set_size_inches(18.5, 16.5)\n",
    "fig.tight_layout(pad=15.0)\n",
    "days = ['Mon', 'Tues', 'Wed', 'Thurs', 'Fri', 'Sat','Sun']\n",
    "for i in range(7):\n",
    "    a = dataset_raw[dataset_raw['weekday']==i][\"trip_duration_cats\"].value_counts().plot(kind='bar',ax=ax[int(i/2)][i%2])\n",
    "    a.set_xlabel(days[i])\n",
    "    a.set_ylabel(\"Trip count\")"
   ]
  },
  {
   "cell_type": "code",
   "execution_count": 45,
   "metadata": {},
   "outputs": [],
   "source": [
    "#Trips more than 2 hours \n",
    "trips_more_than_2_hours = dataset_raw[dataset_raw[\"trip_duration_cats\"] == \"120 min > T\"]"
   ]
  },
  {
   "cell_type": "code",
   "execution_count": 19,
   "metadata": {
    "scrolled": false
   },
   "outputs": [
    {
     "name": "stdout",
     "output_type": "stream",
     "text": [
      "User Guide: https://github.com/keplergl/kepler.gl/blob/master/docs/keplergl-jupyter/user-guide.md\n"
     ]
    },
    {
     "data": {
      "application/vnd.jupyter.widget-view+json": {
       "model_id": "69cb990411384afe92e8444ea39e4362",
       "version_major": 2,
       "version_minor": 0
      },
      "text/plain": [
       "KeplerGl(data={'unnamed': {'index': [0, 1, 2, 3, 4, 5, 6, 7, 8, 9, 10, 11, 12, 13, 14, 15, 16, 17, 18, 19, 20,…"
      ]
     },
     "metadata": {},
     "output_type": "display_data"
    }
   ],
   "source": [
    "nyc_map = KeplerGl(height=600, width=800)\n",
    "# Add data to Kepler\n",
    "nyc_map.add_data(data=dataset_raw)\n",
    "nyc_map"
   ]
  },
  {
   "cell_type": "code",
   "execution_count": null,
   "metadata": {},
   "outputs": [],
   "source": []
  }
 ],
 "metadata": {
  "kernelspec": {
   "display_name": "Python 3",
   "language": "python",
   "name": "python3"
  },
  "language_info": {
   "codemirror_mode": {
    "name": "ipython",
    "version": 3
   },
   "file_extension": ".py",
   "mimetype": "text/x-python",
   "name": "python",
   "nbconvert_exporter": "python",
   "pygments_lexer": "ipython3",
   "version": "3.6.1"
  }
 },
 "nbformat": 4,
 "nbformat_minor": 2
}
